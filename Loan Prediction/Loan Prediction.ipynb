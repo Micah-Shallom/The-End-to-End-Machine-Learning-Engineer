{
 "cells": [
  {
   "cell_type": "code",
   "execution_count": 1,
   "id": "ea58c305",
   "metadata": {
    "ExecuteTime": {
     "end_time": "2021-07-03T11:01:05.553436Z",
     "start_time": "2021-07-03T11:00:24.662581Z"
    }
   },
   "outputs": [],
   "source": [
    "import pandas as pd\n",
    "import numpy as np\n",
    "import matplotlib.pyplot as plt\n",
    "import seaborn as sns\n",
    "%matplotlib inline\n",
    "import warnings \n",
    "warnings.filterwarnings('ignore')"
   ]
  },
  {
   "cell_type": "code",
   "execution_count": 2,
   "id": "971af20c",
   "metadata": {
    "ExecuteTime": {
     "end_time": "2021-07-03T11:01:36.918050Z",
     "start_time": "2021-07-03T11:01:05.557435Z"
    }
   },
   "outputs": [],
   "source": [
    "from sklearn.impute import KNNImputer\n",
    "from sklearn.preprocessing import LabelEncoder\n",
    "from sklearn.linear_model import LogisticRegression\n",
    "from sklearn.neighbors import KNeighborsClassifier\n",
    "from sklearn.svm import SVC\n",
    "from sklearn.tree import DecisionTreeClassifier\n",
    "from sklearn.ensemble import RandomForestClassifier , GradientBoostingClassifier\n",
    "from sklearn.model_selection import StratifiedShuffleSplit , GridSearchCV\n",
    "\n",
    "from sklearn.metrics import precision_score, recall_score, f1_score, log_loss, accuracy_score\n",
    "\n",
    "#imblearn\n",
    "from imblearn.over_sampling import SMOTE\n",
    "\n",
    "from xgboost import XGBClassifier"
   ]
  },
  {
   "cell_type": "code",
   "execution_count": 3,
   "id": "78752206",
   "metadata": {
    "ExecuteTime": {
     "end_time": "2021-07-03T11:01:37.464748Z",
     "start_time": "2021-07-03T11:01:36.922039Z"
    }
   },
   "outputs": [],
   "source": [
    "#importing dataset\n",
    "train_df = pd.read_csv('../Datasets/Loan Prediction/train_u6lujuX_CVtuZ9i.csv')"
   ]
  },
  {
   "cell_type": "code",
   "execution_count": 4,
   "id": "e303083e",
   "metadata": {
    "ExecuteTime": {
     "end_time": "2021-07-03T11:01:37.685903Z",
     "start_time": "2021-07-03T11:01:37.467726Z"
    }
   },
   "outputs": [
    {
     "data": {
      "text/html": [
       "<div>\n",
       "<style scoped>\n",
       "    .dataframe tbody tr th:only-of-type {\n",
       "        vertical-align: middle;\n",
       "    }\n",
       "\n",
       "    .dataframe tbody tr th {\n",
       "        vertical-align: top;\n",
       "    }\n",
       "\n",
       "    .dataframe thead th {\n",
       "        text-align: right;\n",
       "    }\n",
       "</style>\n",
       "<table border=\"1\" class=\"dataframe\">\n",
       "  <thead>\n",
       "    <tr style=\"text-align: right;\">\n",
       "      <th></th>\n",
       "      <th>Loan_ID</th>\n",
       "      <th>Gender</th>\n",
       "      <th>Married</th>\n",
       "      <th>Dependents</th>\n",
       "      <th>Education</th>\n",
       "      <th>Self_Employed</th>\n",
       "      <th>ApplicantIncome</th>\n",
       "      <th>CoapplicantIncome</th>\n",
       "      <th>LoanAmount</th>\n",
       "      <th>Loan_Amount_Term</th>\n",
       "      <th>Credit_History</th>\n",
       "      <th>Property_Area</th>\n",
       "      <th>Loan_Status</th>\n",
       "    </tr>\n",
       "  </thead>\n",
       "  <tbody>\n",
       "    <tr>\n",
       "      <th>0</th>\n",
       "      <td>LP001002</td>\n",
       "      <td>Male</td>\n",
       "      <td>No</td>\n",
       "      <td>0</td>\n",
       "      <td>Graduate</td>\n",
       "      <td>No</td>\n",
       "      <td>5849</td>\n",
       "      <td>0.0</td>\n",
       "      <td>NaN</td>\n",
       "      <td>360.0</td>\n",
       "      <td>1.0</td>\n",
       "      <td>Urban</td>\n",
       "      <td>Y</td>\n",
       "    </tr>\n",
       "    <tr>\n",
       "      <th>1</th>\n",
       "      <td>LP001003</td>\n",
       "      <td>Male</td>\n",
       "      <td>Yes</td>\n",
       "      <td>1</td>\n",
       "      <td>Graduate</td>\n",
       "      <td>No</td>\n",
       "      <td>4583</td>\n",
       "      <td>1508.0</td>\n",
       "      <td>128.0</td>\n",
       "      <td>360.0</td>\n",
       "      <td>1.0</td>\n",
       "      <td>Rural</td>\n",
       "      <td>N</td>\n",
       "    </tr>\n",
       "    <tr>\n",
       "      <th>2</th>\n",
       "      <td>LP001005</td>\n",
       "      <td>Male</td>\n",
       "      <td>Yes</td>\n",
       "      <td>0</td>\n",
       "      <td>Graduate</td>\n",
       "      <td>Yes</td>\n",
       "      <td>3000</td>\n",
       "      <td>0.0</td>\n",
       "      <td>66.0</td>\n",
       "      <td>360.0</td>\n",
       "      <td>1.0</td>\n",
       "      <td>Urban</td>\n",
       "      <td>Y</td>\n",
       "    </tr>\n",
       "    <tr>\n",
       "      <th>3</th>\n",
       "      <td>LP001006</td>\n",
       "      <td>Male</td>\n",
       "      <td>Yes</td>\n",
       "      <td>0</td>\n",
       "      <td>Not Graduate</td>\n",
       "      <td>No</td>\n",
       "      <td>2583</td>\n",
       "      <td>2358.0</td>\n",
       "      <td>120.0</td>\n",
       "      <td>360.0</td>\n",
       "      <td>1.0</td>\n",
       "      <td>Urban</td>\n",
       "      <td>Y</td>\n",
       "    </tr>\n",
       "    <tr>\n",
       "      <th>4</th>\n",
       "      <td>LP001008</td>\n",
       "      <td>Male</td>\n",
       "      <td>No</td>\n",
       "      <td>0</td>\n",
       "      <td>Graduate</td>\n",
       "      <td>No</td>\n",
       "      <td>6000</td>\n",
       "      <td>0.0</td>\n",
       "      <td>141.0</td>\n",
       "      <td>360.0</td>\n",
       "      <td>1.0</td>\n",
       "      <td>Urban</td>\n",
       "      <td>Y</td>\n",
       "    </tr>\n",
       "  </tbody>\n",
       "</table>\n",
       "</div>"
      ],
      "text/plain": [
       "    Loan_ID Gender Married Dependents     Education Self_Employed  \\\n",
       "0  LP001002   Male      No          0      Graduate            No   \n",
       "1  LP001003   Male     Yes          1      Graduate            No   \n",
       "2  LP001005   Male     Yes          0      Graduate           Yes   \n",
       "3  LP001006   Male     Yes          0  Not Graduate            No   \n",
       "4  LP001008   Male      No          0      Graduate            No   \n",
       "\n",
       "   ApplicantIncome  CoapplicantIncome  LoanAmount  Loan_Amount_Term  \\\n",
       "0             5849                0.0         NaN             360.0   \n",
       "1             4583             1508.0       128.0             360.0   \n",
       "2             3000                0.0        66.0             360.0   \n",
       "3             2583             2358.0       120.0             360.0   \n",
       "4             6000                0.0       141.0             360.0   \n",
       "\n",
       "   Credit_History Property_Area Loan_Status  \n",
       "0             1.0         Urban           Y  \n",
       "1             1.0         Rural           N  \n",
       "2             1.0         Urban           Y  \n",
       "3             1.0         Urban           Y  \n",
       "4             1.0         Urban           Y  "
      ]
     },
     "execution_count": 4,
     "metadata": {},
     "output_type": "execute_result"
    }
   ],
   "source": [
    "train_df.head()"
   ]
  },
  {
   "cell_type": "code",
   "execution_count": 5,
   "id": "6b02d2e8",
   "metadata": {
    "ExecuteTime": {
     "end_time": "2021-07-03T11:01:38.207837Z",
     "start_time": "2021-07-03T11:01:37.688900Z"
    }
   },
   "outputs": [
    {
     "name": "stdout",
     "output_type": "stream",
     "text": [
      "<class 'pandas.core.frame.DataFrame'>\n",
      "RangeIndex: 614 entries, 0 to 613\n",
      "Data columns (total 13 columns):\n",
      " #   Column             Non-Null Count  Dtype  \n",
      "---  ------             --------------  -----  \n",
      " 0   Loan_ID            614 non-null    object \n",
      " 1   Gender             601 non-null    object \n",
      " 2   Married            611 non-null    object \n",
      " 3   Dependents         599 non-null    object \n",
      " 4   Education          614 non-null    object \n",
      " 5   Self_Employed      582 non-null    object \n",
      " 6   ApplicantIncome    614 non-null    int64  \n",
      " 7   CoapplicantIncome  614 non-null    float64\n",
      " 8   LoanAmount         592 non-null    float64\n",
      " 9   Loan_Amount_Term   600 non-null    float64\n",
      " 10  Credit_History     564 non-null    float64\n",
      " 11  Property_Area      614 non-null    object \n",
      " 12  Loan_Status        614 non-null    object \n",
      "dtypes: float64(4), int64(1), object(8)\n",
      "memory usage: 62.5+ KB\n"
     ]
    }
   ],
   "source": [
    "train_df.info()\n",
    "\n",
    "#There exists a couple of missing values in the datasets which needs to be handled"
   ]
  },
  {
   "cell_type": "code",
   "execution_count": 6,
   "id": "8cc87b5a",
   "metadata": {
    "ExecuteTime": {
     "end_time": "2021-07-03T11:01:38.569165Z",
     "start_time": "2021-07-03T11:01:38.210835Z"
    }
   },
   "outputs": [
    {
     "data": {
      "text/plain": [
       "Loan_ID               0\n",
       "Gender               13\n",
       "Married               3\n",
       "Dependents           15\n",
       "Education             0\n",
       "Self_Employed        32\n",
       "ApplicantIncome       0\n",
       "CoapplicantIncome     0\n",
       "LoanAmount           22\n",
       "Loan_Amount_Term     14\n",
       "Credit_History       50\n",
       "Property_Area         0\n",
       "Loan_Status           0\n",
       "dtype: int64"
      ]
     },
     "execution_count": 6,
     "metadata": {},
     "output_type": "execute_result"
    }
   ],
   "source": [
    "# The number of missing values in the dataset\n",
    "train_df.isnull().sum()"
   ]
  },
  {
   "cell_type": "code",
   "execution_count": 7,
   "id": "d82265e7",
   "metadata": {
    "ExecuteTime": {
     "end_time": "2021-07-03T11:01:39.098860Z",
     "start_time": "2021-07-03T11:01:38.572161Z"
    }
   },
   "outputs": [
    {
     "data": {
      "text/plain": [
       "Loan_ID              0.000000\n",
       "Gender               0.021173\n",
       "Married              0.004886\n",
       "Dependents           0.024430\n",
       "Education            0.000000\n",
       "Self_Employed        0.052117\n",
       "ApplicantIncome      0.000000\n",
       "CoapplicantIncome    0.000000\n",
       "LoanAmount           0.035831\n",
       "Loan_Amount_Term     0.022801\n",
       "Credit_History       0.081433\n",
       "Property_Area        0.000000\n",
       "Loan_Status          0.000000\n",
       "dtype: float64"
      ]
     },
     "execution_count": 7,
     "metadata": {},
     "output_type": "execute_result"
    }
   ],
   "source": [
    "#Percentage of missing values in each feature\n",
    "train_df.isna().mean()"
   ]
  },
  {
   "cell_type": "markdown",
   "id": "2321840e",
   "metadata": {},
   "source": [
    "As we can see, imputations for the missing values will have mild consequences as the highest percentage of missing values in any of the features is just 8%"
   ]
  },
  {
   "cell_type": "code",
   "execution_count": 8,
   "id": "31751a16",
   "metadata": {
    "ExecuteTime": {
     "end_time": "2021-07-03T11:01:39.304764Z",
     "start_time": "2021-07-03T11:01:39.105856Z"
    }
   },
   "outputs": [
    {
     "data": {
      "text/html": [
       "<div>\n",
       "<style scoped>\n",
       "    .dataframe tbody tr th:only-of-type {\n",
       "        vertical-align: middle;\n",
       "    }\n",
       "\n",
       "    .dataframe tbody tr th {\n",
       "        vertical-align: top;\n",
       "    }\n",
       "\n",
       "    .dataframe thead th {\n",
       "        text-align: right;\n",
       "    }\n",
       "</style>\n",
       "<table border=\"1\" class=\"dataframe\">\n",
       "  <thead>\n",
       "    <tr style=\"text-align: right;\">\n",
       "      <th></th>\n",
       "      <th>ApplicantIncome</th>\n",
       "      <th>CoapplicantIncome</th>\n",
       "      <th>LoanAmount</th>\n",
       "      <th>Loan_Amount_Term</th>\n",
       "      <th>Credit_History</th>\n",
       "    </tr>\n",
       "  </thead>\n",
       "  <tbody>\n",
       "    <tr>\n",
       "      <th>count</th>\n",
       "      <td>614.000000</td>\n",
       "      <td>614.000000</td>\n",
       "      <td>592.000000</td>\n",
       "      <td>600.00000</td>\n",
       "      <td>564.000000</td>\n",
       "    </tr>\n",
       "    <tr>\n",
       "      <th>mean</th>\n",
       "      <td>5403.459283</td>\n",
       "      <td>1621.245798</td>\n",
       "      <td>146.412162</td>\n",
       "      <td>342.00000</td>\n",
       "      <td>0.842199</td>\n",
       "    </tr>\n",
       "    <tr>\n",
       "      <th>std</th>\n",
       "      <td>6109.041673</td>\n",
       "      <td>2926.248369</td>\n",
       "      <td>85.587325</td>\n",
       "      <td>65.12041</td>\n",
       "      <td>0.364878</td>\n",
       "    </tr>\n",
       "    <tr>\n",
       "      <th>min</th>\n",
       "      <td>150.000000</td>\n",
       "      <td>0.000000</td>\n",
       "      <td>9.000000</td>\n",
       "      <td>12.00000</td>\n",
       "      <td>0.000000</td>\n",
       "    </tr>\n",
       "    <tr>\n",
       "      <th>25%</th>\n",
       "      <td>2877.500000</td>\n",
       "      <td>0.000000</td>\n",
       "      <td>100.000000</td>\n",
       "      <td>360.00000</td>\n",
       "      <td>1.000000</td>\n",
       "    </tr>\n",
       "    <tr>\n",
       "      <th>50%</th>\n",
       "      <td>3812.500000</td>\n",
       "      <td>1188.500000</td>\n",
       "      <td>128.000000</td>\n",
       "      <td>360.00000</td>\n",
       "      <td>1.000000</td>\n",
       "    </tr>\n",
       "    <tr>\n",
       "      <th>75%</th>\n",
       "      <td>5795.000000</td>\n",
       "      <td>2297.250000</td>\n",
       "      <td>168.000000</td>\n",
       "      <td>360.00000</td>\n",
       "      <td>1.000000</td>\n",
       "    </tr>\n",
       "    <tr>\n",
       "      <th>max</th>\n",
       "      <td>81000.000000</td>\n",
       "      <td>41667.000000</td>\n",
       "      <td>700.000000</td>\n",
       "      <td>480.00000</td>\n",
       "      <td>1.000000</td>\n",
       "    </tr>\n",
       "  </tbody>\n",
       "</table>\n",
       "</div>"
      ],
      "text/plain": [
       "       ApplicantIncome  CoapplicantIncome  LoanAmount  Loan_Amount_Term  \\\n",
       "count       614.000000         614.000000  592.000000         600.00000   \n",
       "mean       5403.459283        1621.245798  146.412162         342.00000   \n",
       "std        6109.041673        2926.248369   85.587325          65.12041   \n",
       "min         150.000000           0.000000    9.000000          12.00000   \n",
       "25%        2877.500000           0.000000  100.000000         360.00000   \n",
       "50%        3812.500000        1188.500000  128.000000         360.00000   \n",
       "75%        5795.000000        2297.250000  168.000000         360.00000   \n",
       "max       81000.000000       41667.000000  700.000000         480.00000   \n",
       "\n",
       "       Credit_History  \n",
       "count      564.000000  \n",
       "mean         0.842199  \n",
       "std          0.364878  \n",
       "min          0.000000  \n",
       "25%          1.000000  \n",
       "50%          1.000000  \n",
       "75%          1.000000  \n",
       "max          1.000000  "
      ]
     },
     "execution_count": 8,
     "metadata": {},
     "output_type": "execute_result"
    }
   ],
   "source": [
    "train_df.describe()"
   ]
  },
  {
   "cell_type": "code",
   "execution_count": 9,
   "id": "14cca162",
   "metadata": {
    "ExecuteTime": {
     "end_time": "2021-07-03T11:01:39.722817Z",
     "start_time": "2021-07-03T11:01:39.308743Z"
    }
   },
   "outputs": [
    {
     "data": {
      "text/plain": [
       "Index(['Loan_ID', 'Gender', 'Married', 'Dependents', 'Education',\n",
       "       'Self_Employed', 'ApplicantIncome', 'CoapplicantIncome', 'LoanAmount',\n",
       "       'Loan_Amount_Term', 'Credit_History', 'Property_Area', 'Loan_Status'],\n",
       "      dtype='object')"
      ]
     },
     "execution_count": 9,
     "metadata": {},
     "output_type": "execute_result"
    }
   ],
   "source": [
    "train_df.columns"
   ]
  },
  {
   "cell_type": "code",
   "execution_count": 10,
   "id": "f4267221",
   "metadata": {
    "ExecuteTime": {
     "end_time": "2021-07-03T11:01:40.005711Z",
     "start_time": "2021-07-03T11:01:39.726816Z"
    }
   },
   "outputs": [
    {
     "data": {
      "text/html": [
       "<div>\n",
       "<style scoped>\n",
       "    .dataframe tbody tr th:only-of-type {\n",
       "        vertical-align: middle;\n",
       "    }\n",
       "\n",
       "    .dataframe tbody tr th {\n",
       "        vertical-align: top;\n",
       "    }\n",
       "\n",
       "    .dataframe thead th {\n",
       "        text-align: right;\n",
       "    }\n",
       "</style>\n",
       "<table border=\"1\" class=\"dataframe\">\n",
       "  <thead>\n",
       "    <tr style=\"text-align: right;\">\n",
       "      <th></th>\n",
       "      <th>Loan_ID</th>\n",
       "      <th>Gender</th>\n",
       "      <th>Married</th>\n",
       "      <th>Dependents</th>\n",
       "      <th>Education</th>\n",
       "      <th>Self_Employed</th>\n",
       "      <th>ApplicantIncome</th>\n",
       "      <th>CoapplicantIncome</th>\n",
       "      <th>LoanAmount</th>\n",
       "      <th>Loan_Amount_Term</th>\n",
       "      <th>Credit_History</th>\n",
       "      <th>Property_Area</th>\n",
       "      <th>Loan_Status</th>\n",
       "    </tr>\n",
       "  </thead>\n",
       "  <tbody>\n",
       "    <tr>\n",
       "      <th>0</th>\n",
       "      <td>LP001002</td>\n",
       "      <td>Male</td>\n",
       "      <td>No</td>\n",
       "      <td>0</td>\n",
       "      <td>Graduate</td>\n",
       "      <td>No</td>\n",
       "      <td>5849</td>\n",
       "      <td>0.0</td>\n",
       "      <td>NaN</td>\n",
       "      <td>360.0</td>\n",
       "      <td>1.0</td>\n",
       "      <td>Urban</td>\n",
       "      <td>Y</td>\n",
       "    </tr>\n",
       "    <tr>\n",
       "      <th>1</th>\n",
       "      <td>LP001003</td>\n",
       "      <td>Male</td>\n",
       "      <td>Yes</td>\n",
       "      <td>1</td>\n",
       "      <td>Graduate</td>\n",
       "      <td>No</td>\n",
       "      <td>4583</td>\n",
       "      <td>1508.0</td>\n",
       "      <td>128.0</td>\n",
       "      <td>360.0</td>\n",
       "      <td>1.0</td>\n",
       "      <td>Rural</td>\n",
       "      <td>N</td>\n",
       "    </tr>\n",
       "    <tr>\n",
       "      <th>2</th>\n",
       "      <td>LP001005</td>\n",
       "      <td>Male</td>\n",
       "      <td>Yes</td>\n",
       "      <td>0</td>\n",
       "      <td>Graduate</td>\n",
       "      <td>Yes</td>\n",
       "      <td>3000</td>\n",
       "      <td>0.0</td>\n",
       "      <td>66.0</td>\n",
       "      <td>360.0</td>\n",
       "      <td>1.0</td>\n",
       "      <td>Urban</td>\n",
       "      <td>Y</td>\n",
       "    </tr>\n",
       "    <tr>\n",
       "      <th>3</th>\n",
       "      <td>LP001006</td>\n",
       "      <td>Male</td>\n",
       "      <td>Yes</td>\n",
       "      <td>0</td>\n",
       "      <td>Not Graduate</td>\n",
       "      <td>No</td>\n",
       "      <td>2583</td>\n",
       "      <td>2358.0</td>\n",
       "      <td>120.0</td>\n",
       "      <td>360.0</td>\n",
       "      <td>1.0</td>\n",
       "      <td>Urban</td>\n",
       "      <td>Y</td>\n",
       "    </tr>\n",
       "    <tr>\n",
       "      <th>4</th>\n",
       "      <td>LP001008</td>\n",
       "      <td>Male</td>\n",
       "      <td>No</td>\n",
       "      <td>0</td>\n",
       "      <td>Graduate</td>\n",
       "      <td>No</td>\n",
       "      <td>6000</td>\n",
       "      <td>0.0</td>\n",
       "      <td>141.0</td>\n",
       "      <td>360.0</td>\n",
       "      <td>1.0</td>\n",
       "      <td>Urban</td>\n",
       "      <td>Y</td>\n",
       "    </tr>\n",
       "  </tbody>\n",
       "</table>\n",
       "</div>"
      ],
      "text/plain": [
       "    Loan_ID Gender Married Dependents     Education Self_Employed  \\\n",
       "0  LP001002   Male      No          0      Graduate            No   \n",
       "1  LP001003   Male     Yes          1      Graduate            No   \n",
       "2  LP001005   Male     Yes          0      Graduate           Yes   \n",
       "3  LP001006   Male     Yes          0  Not Graduate            No   \n",
       "4  LP001008   Male      No          0      Graduate            No   \n",
       "\n",
       "   ApplicantIncome  CoapplicantIncome  LoanAmount  Loan_Amount_Term  \\\n",
       "0             5849                0.0         NaN             360.0   \n",
       "1             4583             1508.0       128.0             360.0   \n",
       "2             3000                0.0        66.0             360.0   \n",
       "3             2583             2358.0       120.0             360.0   \n",
       "4             6000                0.0       141.0             360.0   \n",
       "\n",
       "   Credit_History Property_Area Loan_Status  \n",
       "0             1.0         Urban           Y  \n",
       "1             1.0         Rural           N  \n",
       "2             1.0         Urban           Y  \n",
       "3             1.0         Urban           Y  \n",
       "4             1.0         Urban           Y  "
      ]
     },
     "execution_count": 10,
     "metadata": {},
     "output_type": "execute_result"
    }
   ],
   "source": [
    "train_df.head()"
   ]
  },
  {
   "cell_type": "code",
   "execution_count": 11,
   "id": "84353f4d",
   "metadata": {
    "ExecuteTime": {
     "end_time": "2021-07-03T11:01:40.261544Z",
     "start_time": "2021-07-03T11:01:40.009708Z"
    }
   },
   "outputs": [
    {
     "name": "stdout",
     "output_type": "stream",
     "text": [
      "Loan_ID\n",
      "--------------------------------------------------\n",
      "LP002794    1\n",
      "LP002983    1\n",
      "LP001448    1\n",
      "LP001770    1\n",
      "LP002024    1\n",
      "           ..\n",
      "LP001086    1\n",
      "LP002785    1\n",
      "LP002772    1\n",
      "LP001665    1\n",
      "LP002087    1\n",
      "Name: Loan_ID, Length: 614, dtype: int64\n",
      "--------------------------------------------------\n",
      "Gender\n",
      "--------------------------------------------------\n",
      "Male      489\n",
      "Female    112\n",
      "Name: Gender, dtype: int64\n",
      "--------------------------------------------------\n",
      "Married\n",
      "--------------------------------------------------\n",
      "Yes    398\n",
      "No     213\n",
      "Name: Married, dtype: int64\n",
      "--------------------------------------------------\n",
      "Dependents\n",
      "--------------------------------------------------\n",
      "0     345\n",
      "1     102\n",
      "2     101\n",
      "3+     51\n",
      "Name: Dependents, dtype: int64\n",
      "--------------------------------------------------\n",
      "Education\n",
      "--------------------------------------------------\n",
      "Graduate        480\n",
      "Not Graduate    134\n",
      "Name: Education, dtype: int64\n",
      "--------------------------------------------------\n",
      "Self_Employed\n",
      "--------------------------------------------------\n",
      "No     500\n",
      "Yes     82\n",
      "Name: Self_Employed, dtype: int64\n",
      "--------------------------------------------------\n",
      "ApplicantIncome\n",
      "--------------------------------------------------\n",
      "2500    9\n",
      "6000    6\n",
      "2600    6\n",
      "4583    6\n",
      "4166    5\n",
      "       ..\n",
      "5503    1\n",
      "3450    1\n",
      "2425    1\n",
      "2423    1\n",
      "4095    1\n",
      "Name: ApplicantIncome, Length: 505, dtype: int64\n",
      "--------------------------------------------------\n",
      "CoapplicantIncome\n",
      "--------------------------------------------------\n",
      "0.0       273\n",
      "2500.0      5\n",
      "2083.0      5\n",
      "1666.0      5\n",
      "1625.0      3\n",
      "         ... \n",
      "2365.0      1\n",
      "1695.0      1\n",
      "2466.0      1\n",
      "2375.0      1\n",
      "1700.0      1\n",
      "Name: CoapplicantIncome, Length: 287, dtype: int64\n",
      "--------------------------------------------------\n",
      "LoanAmount\n",
      "--------------------------------------------------\n",
      "120.0    20\n",
      "110.0    17\n",
      "100.0    15\n",
      "160.0    12\n",
      "187.0    12\n",
      "         ..\n",
      "211.0     1\n",
      "250.0     1\n",
      "62.0      1\n",
      "85.0      1\n",
      "436.0     1\n",
      "Name: LoanAmount, Length: 203, dtype: int64\n",
      "--------------------------------------------------\n",
      "Loan_Amount_Term\n",
      "--------------------------------------------------\n",
      "360.0    512\n",
      "180.0     44\n",
      "480.0     15\n",
      "300.0     13\n",
      "84.0       4\n",
      "240.0      4\n",
      "120.0      3\n",
      "36.0       2\n",
      "60.0       2\n",
      "12.0       1\n",
      "Name: Loan_Amount_Term, dtype: int64\n",
      "--------------------------------------------------\n",
      "Credit_History\n",
      "--------------------------------------------------\n",
      "1.0    475\n",
      "0.0     89\n",
      "Name: Credit_History, dtype: int64\n",
      "--------------------------------------------------\n",
      "Property_Area\n",
      "--------------------------------------------------\n",
      "Semiurban    233\n",
      "Urban        202\n",
      "Rural        179\n",
      "Name: Property_Area, dtype: int64\n",
      "--------------------------------------------------\n",
      "Loan_Status\n",
      "--------------------------------------------------\n",
      "Y    422\n",
      "N    192\n",
      "Name: Loan_Status, dtype: int64\n",
      "--------------------------------------------------\n"
     ]
    }
   ],
   "source": [
    "#Looking at the unique values count for each of the features\n",
    "\n",
    "for col in train_df.columns:\n",
    "    print(col)\n",
    "    print('-'*50)\n",
    "    print(train_df[col].value_counts())\n",
    "    print('-'*50)"
   ]
  },
  {
   "cell_type": "code",
   "execution_count": 12,
   "id": "73c7b373",
   "metadata": {
    "ExecuteTime": {
     "end_time": "2021-07-03T11:01:40.476563Z",
     "start_time": "2021-07-03T11:01:40.265543Z"
    }
   },
   "outputs": [],
   "source": [
    "#dropping the Loan_ID columns as its insignificant to the generalization of models(contains no pattern)\n",
    "\n",
    "train_df.drop('Loan_ID', axis=1 , inplace=True)"
   ]
  },
  {
   "cell_type": "code",
   "execution_count": 13,
   "id": "b50f0edc",
   "metadata": {
    "ExecuteTime": {
     "end_time": "2021-07-03T11:01:40.678905Z",
     "start_time": "2021-07-03T11:01:40.481565Z"
    }
   },
   "outputs": [
    {
     "data": {
      "text/plain": [
       "dtype('O')"
      ]
     },
     "execution_count": 13,
     "metadata": {},
     "output_type": "execute_result"
    }
   ],
   "source": [
    "#Since credit history is of binary value of 0 and 1, we convert it into an object dtype\n",
    "\n",
    "train_df['Credit_History'] = train_df['Credit_History'].astype('O')\n",
    "train_df['Credit_History'].dtype"
   ]
  },
  {
   "cell_type": "code",
   "execution_count": 14,
   "id": "3d7ee9c8",
   "metadata": {
    "ExecuteTime": {
     "end_time": "2021-07-03T11:01:40.873795Z",
     "start_time": "2021-07-03T11:01:40.681903Z"
    }
   },
   "outputs": [],
   "source": [
    "#Seperating the numerical columns and the categorical columns\n",
    "\n",
    "cat_cols = []\n",
    "num_cols = []\n",
    "\n",
    "for col , content in train_df.items():\n",
    "    if pd.api.types.is_numeric_dtype(content):\n",
    "        num_cols.append(col)\n",
    "    else:\n",
    "        cat_cols.append(col)"
   ]
  },
  {
   "cell_type": "code",
   "execution_count": 15,
   "id": "3c9a9341",
   "metadata": {
    "ExecuteTime": {
     "end_time": "2021-07-03T11:01:41.127648Z",
     "start_time": "2021-07-03T11:01:40.876791Z"
    }
   },
   "outputs": [
    {
     "data": {
      "text/plain": [
       "['Gender',\n",
       " 'Married',\n",
       " 'Dependents',\n",
       " 'Education',\n",
       " 'Self_Employed',\n",
       " 'Credit_History',\n",
       " 'Property_Area',\n",
       " 'Loan_Status']"
      ]
     },
     "execution_count": 15,
     "metadata": {},
     "output_type": "execute_result"
    }
   ],
   "source": [
    "cat_cols"
   ]
  },
  {
   "cell_type": "code",
   "execution_count": 16,
   "id": "e44ae338",
   "metadata": {
    "ExecuteTime": {
     "end_time": "2021-07-03T11:01:41.296552Z",
     "start_time": "2021-07-03T11:01:41.131647Z"
    }
   },
   "outputs": [
    {
     "data": {
      "text/plain": [
       "['ApplicantIncome', 'CoapplicantIncome', 'LoanAmount', 'Loan_Amount_Term']"
      ]
     },
     "execution_count": 16,
     "metadata": {},
     "output_type": "execute_result"
    }
   ],
   "source": [
    "num_cols"
   ]
  },
  {
   "cell_type": "code",
   "execution_count": 17,
   "id": "798ccf61",
   "metadata": {
    "ExecuteTime": {
     "end_time": "2021-07-03T11:01:41.454463Z",
     "start_time": "2021-07-03T11:01:41.299550Z"
    }
   },
   "outputs": [],
   "source": [
    "cat_data = train_df.loc[: , cat_cols]\n",
    "num_data = train_df.loc[: , num_cols]"
   ]
  },
  {
   "cell_type": "code",
   "execution_count": 18,
   "id": "c5fd10a8",
   "metadata": {
    "ExecuteTime": {
     "end_time": "2021-07-03T11:01:41.650769Z",
     "start_time": "2021-07-03T11:01:41.456459Z"
    }
   },
   "outputs": [
    {
     "data": {
      "text/html": [
       "<div>\n",
       "<style scoped>\n",
       "    .dataframe tbody tr th:only-of-type {\n",
       "        vertical-align: middle;\n",
       "    }\n",
       "\n",
       "    .dataframe tbody tr th {\n",
       "        vertical-align: top;\n",
       "    }\n",
       "\n",
       "    .dataframe thead th {\n",
       "        text-align: right;\n",
       "    }\n",
       "</style>\n",
       "<table border=\"1\" class=\"dataframe\">\n",
       "  <thead>\n",
       "    <tr style=\"text-align: right;\">\n",
       "      <th></th>\n",
       "      <th>Gender</th>\n",
       "      <th>Married</th>\n",
       "      <th>Dependents</th>\n",
       "      <th>Education</th>\n",
       "      <th>Self_Employed</th>\n",
       "      <th>Credit_History</th>\n",
       "      <th>Property_Area</th>\n",
       "      <th>Loan_Status</th>\n",
       "    </tr>\n",
       "  </thead>\n",
       "  <tbody>\n",
       "    <tr>\n",
       "      <th>0</th>\n",
       "      <td>Male</td>\n",
       "      <td>No</td>\n",
       "      <td>0</td>\n",
       "      <td>Graduate</td>\n",
       "      <td>No</td>\n",
       "      <td>1.0</td>\n",
       "      <td>Urban</td>\n",
       "      <td>Y</td>\n",
       "    </tr>\n",
       "    <tr>\n",
       "      <th>1</th>\n",
       "      <td>Male</td>\n",
       "      <td>Yes</td>\n",
       "      <td>1</td>\n",
       "      <td>Graduate</td>\n",
       "      <td>No</td>\n",
       "      <td>1.0</td>\n",
       "      <td>Rural</td>\n",
       "      <td>N</td>\n",
       "    </tr>\n",
       "    <tr>\n",
       "      <th>2</th>\n",
       "      <td>Male</td>\n",
       "      <td>Yes</td>\n",
       "      <td>0</td>\n",
       "      <td>Graduate</td>\n",
       "      <td>Yes</td>\n",
       "      <td>1.0</td>\n",
       "      <td>Urban</td>\n",
       "      <td>Y</td>\n",
       "    </tr>\n",
       "    <tr>\n",
       "      <th>3</th>\n",
       "      <td>Male</td>\n",
       "      <td>Yes</td>\n",
       "      <td>0</td>\n",
       "      <td>Not Graduate</td>\n",
       "      <td>No</td>\n",
       "      <td>1.0</td>\n",
       "      <td>Urban</td>\n",
       "      <td>Y</td>\n",
       "    </tr>\n",
       "    <tr>\n",
       "      <th>4</th>\n",
       "      <td>Male</td>\n",
       "      <td>No</td>\n",
       "      <td>0</td>\n",
       "      <td>Graduate</td>\n",
       "      <td>No</td>\n",
       "      <td>1.0</td>\n",
       "      <td>Urban</td>\n",
       "      <td>Y</td>\n",
       "    </tr>\n",
       "    <tr>\n",
       "      <th>...</th>\n",
       "      <td>...</td>\n",
       "      <td>...</td>\n",
       "      <td>...</td>\n",
       "      <td>...</td>\n",
       "      <td>...</td>\n",
       "      <td>...</td>\n",
       "      <td>...</td>\n",
       "      <td>...</td>\n",
       "    </tr>\n",
       "    <tr>\n",
       "      <th>609</th>\n",
       "      <td>Female</td>\n",
       "      <td>No</td>\n",
       "      <td>0</td>\n",
       "      <td>Graduate</td>\n",
       "      <td>No</td>\n",
       "      <td>1.0</td>\n",
       "      <td>Rural</td>\n",
       "      <td>Y</td>\n",
       "    </tr>\n",
       "    <tr>\n",
       "      <th>610</th>\n",
       "      <td>Male</td>\n",
       "      <td>Yes</td>\n",
       "      <td>3+</td>\n",
       "      <td>Graduate</td>\n",
       "      <td>No</td>\n",
       "      <td>1.0</td>\n",
       "      <td>Rural</td>\n",
       "      <td>Y</td>\n",
       "    </tr>\n",
       "    <tr>\n",
       "      <th>611</th>\n",
       "      <td>Male</td>\n",
       "      <td>Yes</td>\n",
       "      <td>1</td>\n",
       "      <td>Graduate</td>\n",
       "      <td>No</td>\n",
       "      <td>1.0</td>\n",
       "      <td>Urban</td>\n",
       "      <td>Y</td>\n",
       "    </tr>\n",
       "    <tr>\n",
       "      <th>612</th>\n",
       "      <td>Male</td>\n",
       "      <td>Yes</td>\n",
       "      <td>2</td>\n",
       "      <td>Graduate</td>\n",
       "      <td>No</td>\n",
       "      <td>1.0</td>\n",
       "      <td>Urban</td>\n",
       "      <td>Y</td>\n",
       "    </tr>\n",
       "    <tr>\n",
       "      <th>613</th>\n",
       "      <td>Female</td>\n",
       "      <td>No</td>\n",
       "      <td>0</td>\n",
       "      <td>Graduate</td>\n",
       "      <td>Yes</td>\n",
       "      <td>0.0</td>\n",
       "      <td>Semiurban</td>\n",
       "      <td>N</td>\n",
       "    </tr>\n",
       "  </tbody>\n",
       "</table>\n",
       "<p>614 rows × 8 columns</p>\n",
       "</div>"
      ],
      "text/plain": [
       "     Gender Married Dependents     Education Self_Employed Credit_History  \\\n",
       "0      Male      No          0      Graduate            No            1.0   \n",
       "1      Male     Yes          1      Graduate            No            1.0   \n",
       "2      Male     Yes          0      Graduate           Yes            1.0   \n",
       "3      Male     Yes          0  Not Graduate            No            1.0   \n",
       "4      Male      No          0      Graduate            No            1.0   \n",
       "..      ...     ...        ...           ...           ...            ...   \n",
       "609  Female      No          0      Graduate            No            1.0   \n",
       "610    Male     Yes         3+      Graduate            No            1.0   \n",
       "611    Male     Yes          1      Graduate            No            1.0   \n",
       "612    Male     Yes          2      Graduate            No            1.0   \n",
       "613  Female      No          0      Graduate           Yes            0.0   \n",
       "\n",
       "    Property_Area Loan_Status  \n",
       "0           Urban           Y  \n",
       "1           Rural           N  \n",
       "2           Urban           Y  \n",
       "3           Urban           Y  \n",
       "4           Urban           Y  \n",
       "..            ...         ...  \n",
       "609         Rural           Y  \n",
       "610         Rural           Y  \n",
       "611         Urban           Y  \n",
       "612         Urban           Y  \n",
       "613     Semiurban           N  \n",
       "\n",
       "[614 rows x 8 columns]"
      ]
     },
     "execution_count": 18,
     "metadata": {},
     "output_type": "execute_result"
    }
   ],
   "source": [
    "cat_data"
   ]
  },
  {
   "cell_type": "code",
   "execution_count": 19,
   "id": "b127d21e",
   "metadata": {
    "ExecuteTime": {
     "end_time": "2021-07-03T11:01:41.873314Z",
     "start_time": "2021-07-03T11:01:41.652759Z"
    }
   },
   "outputs": [
    {
     "data": {
      "text/html": [
       "<div>\n",
       "<style scoped>\n",
       "    .dataframe tbody tr th:only-of-type {\n",
       "        vertical-align: middle;\n",
       "    }\n",
       "\n",
       "    .dataframe tbody tr th {\n",
       "        vertical-align: top;\n",
       "    }\n",
       "\n",
       "    .dataframe thead th {\n",
       "        text-align: right;\n",
       "    }\n",
       "</style>\n",
       "<table border=\"1\" class=\"dataframe\">\n",
       "  <thead>\n",
       "    <tr style=\"text-align: right;\">\n",
       "      <th></th>\n",
       "      <th>ApplicantIncome</th>\n",
       "      <th>CoapplicantIncome</th>\n",
       "      <th>LoanAmount</th>\n",
       "      <th>Loan_Amount_Term</th>\n",
       "    </tr>\n",
       "  </thead>\n",
       "  <tbody>\n",
       "    <tr>\n",
       "      <th>0</th>\n",
       "      <td>5849</td>\n",
       "      <td>0.0</td>\n",
       "      <td>NaN</td>\n",
       "      <td>360.0</td>\n",
       "    </tr>\n",
       "    <tr>\n",
       "      <th>1</th>\n",
       "      <td>4583</td>\n",
       "      <td>1508.0</td>\n",
       "      <td>128.0</td>\n",
       "      <td>360.0</td>\n",
       "    </tr>\n",
       "    <tr>\n",
       "      <th>2</th>\n",
       "      <td>3000</td>\n",
       "      <td>0.0</td>\n",
       "      <td>66.0</td>\n",
       "      <td>360.0</td>\n",
       "    </tr>\n",
       "    <tr>\n",
       "      <th>3</th>\n",
       "      <td>2583</td>\n",
       "      <td>2358.0</td>\n",
       "      <td>120.0</td>\n",
       "      <td>360.0</td>\n",
       "    </tr>\n",
       "    <tr>\n",
       "      <th>4</th>\n",
       "      <td>6000</td>\n",
       "      <td>0.0</td>\n",
       "      <td>141.0</td>\n",
       "      <td>360.0</td>\n",
       "    </tr>\n",
       "    <tr>\n",
       "      <th>...</th>\n",
       "      <td>...</td>\n",
       "      <td>...</td>\n",
       "      <td>...</td>\n",
       "      <td>...</td>\n",
       "    </tr>\n",
       "    <tr>\n",
       "      <th>609</th>\n",
       "      <td>2900</td>\n",
       "      <td>0.0</td>\n",
       "      <td>71.0</td>\n",
       "      <td>360.0</td>\n",
       "    </tr>\n",
       "    <tr>\n",
       "      <th>610</th>\n",
       "      <td>4106</td>\n",
       "      <td>0.0</td>\n",
       "      <td>40.0</td>\n",
       "      <td>180.0</td>\n",
       "    </tr>\n",
       "    <tr>\n",
       "      <th>611</th>\n",
       "      <td>8072</td>\n",
       "      <td>240.0</td>\n",
       "      <td>253.0</td>\n",
       "      <td>360.0</td>\n",
       "    </tr>\n",
       "    <tr>\n",
       "      <th>612</th>\n",
       "      <td>7583</td>\n",
       "      <td>0.0</td>\n",
       "      <td>187.0</td>\n",
       "      <td>360.0</td>\n",
       "    </tr>\n",
       "    <tr>\n",
       "      <th>613</th>\n",
       "      <td>4583</td>\n",
       "      <td>0.0</td>\n",
       "      <td>133.0</td>\n",
       "      <td>360.0</td>\n",
       "    </tr>\n",
       "  </tbody>\n",
       "</table>\n",
       "<p>614 rows × 4 columns</p>\n",
       "</div>"
      ],
      "text/plain": [
       "     ApplicantIncome  CoapplicantIncome  LoanAmount  Loan_Amount_Term\n",
       "0               5849                0.0         NaN             360.0\n",
       "1               4583             1508.0       128.0             360.0\n",
       "2               3000                0.0        66.0             360.0\n",
       "3               2583             2358.0       120.0             360.0\n",
       "4               6000                0.0       141.0             360.0\n",
       "..               ...                ...         ...               ...\n",
       "609             2900                0.0        71.0             360.0\n",
       "610             4106                0.0        40.0             180.0\n",
       "611             8072              240.0       253.0             360.0\n",
       "612             7583                0.0       187.0             360.0\n",
       "613             4583                0.0       133.0             360.0\n",
       "\n",
       "[614 rows x 4 columns]"
      ]
     },
     "execution_count": 19,
     "metadata": {},
     "output_type": "execute_result"
    }
   ],
   "source": [
    "num_data"
   ]
  },
  {
   "cell_type": "code",
   "execution_count": 20,
   "id": "f71ed1e5",
   "metadata": {
    "ExecuteTime": {
     "end_time": "2021-07-03T11:01:42.125066Z",
     "start_time": "2021-07-03T11:01:41.875330Z"
    }
   },
   "outputs": [
    {
     "data": {
      "text/html": [
       "<div>\n",
       "<style scoped>\n",
       "    .dataframe tbody tr th:only-of-type {\n",
       "        vertical-align: middle;\n",
       "    }\n",
       "\n",
       "    .dataframe tbody tr th {\n",
       "        vertical-align: top;\n",
       "    }\n",
       "\n",
       "    .dataframe thead th {\n",
       "        text-align: right;\n",
       "    }\n",
       "</style>\n",
       "<table border=\"1\" class=\"dataframe\">\n",
       "  <thead>\n",
       "    <tr style=\"text-align: right;\">\n",
       "      <th></th>\n",
       "      <th>Gender</th>\n",
       "      <th>Married</th>\n",
       "      <th>Dependents</th>\n",
       "      <th>Education</th>\n",
       "      <th>Self_Employed</th>\n",
       "      <th>ApplicantIncome</th>\n",
       "      <th>CoapplicantIncome</th>\n",
       "      <th>LoanAmount</th>\n",
       "      <th>Loan_Amount_Term</th>\n",
       "      <th>Credit_History</th>\n",
       "      <th>Property_Area</th>\n",
       "      <th>Loan_Status</th>\n",
       "    </tr>\n",
       "  </thead>\n",
       "  <tbody>\n",
       "    <tr>\n",
       "      <th>0</th>\n",
       "      <td>Male</td>\n",
       "      <td>No</td>\n",
       "      <td>0</td>\n",
       "      <td>Graduate</td>\n",
       "      <td>No</td>\n",
       "      <td>5849</td>\n",
       "      <td>0.0</td>\n",
       "      <td>NaN</td>\n",
       "      <td>360.0</td>\n",
       "      <td>1.0</td>\n",
       "      <td>Urban</td>\n",
       "      <td>Y</td>\n",
       "    </tr>\n",
       "    <tr>\n",
       "      <th>1</th>\n",
       "      <td>Male</td>\n",
       "      <td>Yes</td>\n",
       "      <td>1</td>\n",
       "      <td>Graduate</td>\n",
       "      <td>No</td>\n",
       "      <td>4583</td>\n",
       "      <td>1508.0</td>\n",
       "      <td>128.0</td>\n",
       "      <td>360.0</td>\n",
       "      <td>1.0</td>\n",
       "      <td>Rural</td>\n",
       "      <td>N</td>\n",
       "    </tr>\n",
       "  </tbody>\n",
       "</table>\n",
       "</div>"
      ],
      "text/plain": [
       "  Gender Married Dependents Education Self_Employed  ApplicantIncome  \\\n",
       "0   Male      No          0  Graduate            No             5849   \n",
       "1   Male     Yes          1  Graduate            No             4583   \n",
       "\n",
       "   CoapplicantIncome  LoanAmount  Loan_Amount_Term Credit_History  \\\n",
       "0                0.0         NaN             360.0            1.0   \n",
       "1             1508.0       128.0             360.0            1.0   \n",
       "\n",
       "  Property_Area Loan_Status  \n",
       "0         Urban           Y  \n",
       "1         Rural           N  "
      ]
     },
     "execution_count": 20,
     "metadata": {},
     "output_type": "execute_result"
    }
   ],
   "source": [
    "train_df.head(2)"
   ]
  },
  {
   "cell_type": "markdown",
   "id": "53822604",
   "metadata": {},
   "source": [
    "### Filling in Missing Values"
   ]
  },
  {
   "cell_type": "code",
   "execution_count": 21,
   "id": "9238c7d8",
   "metadata": {
    "ExecuteTime": {
     "end_time": "2021-07-03T11:01:42.488549Z",
     "start_time": "2021-07-03T11:01:42.131028Z"
    }
   },
   "outputs": [
    {
     "data": {
      "text/plain": [
       "Gender            13\n",
       "Married            3\n",
       "Dependents        15\n",
       "Education          0\n",
       "Self_Employed     32\n",
       "Credit_History    50\n",
       "Property_Area      0\n",
       "Loan_Status        0\n",
       "dtype: int64"
      ]
     },
     "execution_count": 21,
     "metadata": {},
     "output_type": "execute_result"
    }
   ],
   "source": [
    "cat_data.isna().sum()"
   ]
  },
  {
   "cell_type": "code",
   "execution_count": 22,
   "id": "335b8a1b",
   "metadata": {
    "ExecuteTime": {
     "end_time": "2021-07-03T11:01:42.904306Z",
     "start_time": "2021-07-03T11:01:42.493542Z"
    }
   },
   "outputs": [
    {
     "data": {
      "text/plain": [
       "Gender        0\n",
       "Dependents    0\n",
       "Married       0\n",
       "dtype: int64"
      ]
     },
     "execution_count": 22,
     "metadata": {},
     "output_type": "execute_result"
    }
   ],
   "source": [
    "#For the Gender and the Dependents features since the number of missing values is quite small, we use mode replacement\n",
    "for col in ['Gender' , 'Dependents' , 'Married']:\n",
    "    cat_data[col].fillna(cat_data[col].mode()[0], inplace=True)\n",
    "    \n",
    "cat_data.loc[: , ['Gender' , 'Dependents' , 'Married']].isna().sum()"
   ]
  },
  {
   "cell_type": "code",
   "execution_count": 23,
   "id": "3483db92",
   "metadata": {
    "ExecuteTime": {
     "end_time": "2021-07-03T11:01:43.121184Z",
     "start_time": "2021-07-03T11:01:42.916300Z"
    }
   },
   "outputs": [],
   "source": [
    "# For self employed and credit history , random_imputations will be done on the missing features\n",
    "\n",
    "for col in ['Self_Employed' , 'Credit_History']:\n",
    "    random_samples = cat_data[col].dropna().sample(cat_data[col].isna().sum(), random_state=42)\n",
    "    random_samples.index = cat_data[cat_data[col].isna()].index\n",
    "    \n",
    "    cat_data.loc[cat_data[col].isna() , col] = random_samples"
   ]
  },
  {
   "cell_type": "code",
   "execution_count": 24,
   "id": "b34b0339",
   "metadata": {
    "ExecuteTime": {
     "end_time": "2021-07-03T11:01:43.266099Z",
     "start_time": "2021-07-03T11:01:43.129178Z"
    }
   },
   "outputs": [
    {
     "data": {
      "text/plain": [
       "Gender            0\n",
       "Married           0\n",
       "Dependents        0\n",
       "Education         0\n",
       "Self_Employed     0\n",
       "Credit_History    0\n",
       "Property_Area     0\n",
       "Loan_Status       0\n",
       "dtype: int64"
      ]
     },
     "execution_count": 24,
     "metadata": {},
     "output_type": "execute_result"
    }
   ],
   "source": [
    "cat_data.isna().sum()"
   ]
  },
  {
   "cell_type": "code",
   "execution_count": 25,
   "id": "60fc8edd",
   "metadata": {
    "ExecuteTime": {
     "end_time": "2021-07-03T11:01:43.473980Z",
     "start_time": "2021-07-03T11:01:43.270097Z"
    }
   },
   "outputs": [
    {
     "data": {
      "text/plain": [
       "ApplicantIncome       0\n",
       "CoapplicantIncome     0\n",
       "LoanAmount           22\n",
       "Loan_Amount_Term     14\n",
       "dtype: int64"
      ]
     },
     "execution_count": 25,
     "metadata": {},
     "output_type": "execute_result"
    }
   ],
   "source": [
    "num_data.isna().sum()"
   ]
  },
  {
   "cell_type": "code",
   "execution_count": 26,
   "id": "9a37776c",
   "metadata": {
    "ExecuteTime": {
     "end_time": "2021-07-03T11:01:43.770073Z",
     "start_time": "2021-07-03T11:01:43.475979Z"
    }
   },
   "outputs": [],
   "source": [
    "imputer = KNNImputer();\n",
    "num_data = pd.DataFrame(imputer.fit_transform(num_data) , columns=num_data.columns)"
   ]
  },
  {
   "cell_type": "code",
   "execution_count": 27,
   "id": "20e3f7f5",
   "metadata": {
    "ExecuteTime": {
     "end_time": "2021-07-03T11:01:43.916990Z",
     "start_time": "2021-07-03T11:01:43.773072Z"
    }
   },
   "outputs": [
    {
     "data": {
      "text/plain": [
       "ApplicantIncome      0\n",
       "CoapplicantIncome    0\n",
       "LoanAmount           0\n",
       "Loan_Amount_Term     0\n",
       "dtype: int64"
      ]
     },
     "execution_count": 27,
     "metadata": {},
     "output_type": "execute_result"
    }
   ],
   "source": [
    "num_data.isna().sum()"
   ]
  },
  {
   "cell_type": "code",
   "execution_count": 28,
   "id": "c03773b3",
   "metadata": {
    "ExecuteTime": {
     "end_time": "2021-07-03T11:01:45.718322Z",
     "start_time": "2021-07-03T11:01:43.919989Z"
    }
   },
   "outputs": [
    {
     "data": {
      "image/png": "[encoded data removed]",
      "text/plain": [
       "<Figure size 432x288 with 2 Axes>"
      ]
     },
     "metadata": {
      "needs_background": "light"
     },
     "output_type": "display_data"
    }
   ],
   "source": [
    "## Lets take a look at the correlations in the numerical data again\n",
    "sns.heatmap(num_data.corr() , annot=True);"
   ]
  },
  {
   "cell_type": "code",
   "execution_count": 29,
   "id": "7c871f90",
   "metadata": {
    "ExecuteTime": {
     "end_time": "2021-07-03T11:01:45.742309Z",
     "start_time": "2021-07-03T11:01:45.721300Z"
    }
   },
   "outputs": [
    {
     "name": "stdout",
     "output_type": "stream",
     "text": [
      "Male      502\n",
      "Female    112\n",
      "Name: Gender, dtype: int64\n",
      "Yes    401\n",
      "No     213\n",
      "Name: Married, dtype: int64\n",
      "0     360\n",
      "1     102\n",
      "2     101\n",
      "3+     51\n",
      "Name: Dependents, dtype: int64\n",
      "Graduate        480\n",
      "Not Graduate    134\n",
      "Name: Education, dtype: int64\n",
      "No     529\n",
      "Yes     85\n",
      "Name: Self_Employed, dtype: int64\n",
      "1.0    515\n",
      "0.0     99\n",
      "Name: Credit_History, dtype: int64\n",
      "Semiurban    233\n",
      "Urban        202\n",
      "Rural        179\n",
      "Name: Property_Area, dtype: int64\n",
      "Y    422\n",
      "N    192\n",
      "Name: Loan_Status, dtype: int64\n"
     ]
    }
   ],
   "source": [
    "for col in cat_data.columns:\n",
    "    print(cat_data[col].value_counts())"
   ]
  },
  {
   "cell_type": "code",
   "execution_count": 30,
   "id": "6f4b60b1",
   "metadata": {
    "ExecuteTime": {
     "end_time": "2021-07-03T11:01:46.627262Z",
     "start_time": "2021-07-03T11:01:45.745287Z"
    }
   },
   "outputs": [
    {
     "data": {
      "image/png": "[encoded data removed]",
      "text/plain": [
       "<Figure size 432x288 with 1 Axes>"
      ]
     },
     "metadata": {
      "needs_background": "light"
     },
     "output_type": "display_data"
    }
   ],
   "source": [
    "# Lets look at the balancing the target colummn\n",
    "\n",
    "sns.countplot(cat_data['Loan_Status']);\n",
    "\n",
    "## The distribution of the datasetclasses is a bit imbalanced so we gonna oversample the minority class to slightly over 50%\n"
   ]
  },
  {
   "cell_type": "code",
   "execution_count": 31,
   "id": "e1996ba9",
   "metadata": {
    "ExecuteTime": {
     "end_time": "2021-07-03T11:01:46.659264Z",
     "start_time": "2021-07-03T11:01:46.630260Z"
    }
   },
   "outputs": [],
   "source": [
    "target = cat_data['Loan_Status']\n",
    "cat_data.drop('Loan_Status' , axis=1 , inplace=True)"
   ]
  },
  {
   "cell_type": "code",
   "execution_count": 32,
   "id": "2487d0dd",
   "metadata": {
    "ExecuteTime": {
     "end_time": "2021-07-03T11:01:46.810157Z",
     "start_time": "2021-07-03T11:01:46.662241Z"
    }
   },
   "outputs": [],
   "source": [
    "for col in cat_data.columns:\n",
    "    lenc = LabelEncoder().fit(cat_data[col])\n",
    "    cat_data[col] = lenc.transform(cat_data[col])"
   ]
  },
  {
   "cell_type": "code",
   "execution_count": null,
   "id": "f80737a3",
   "metadata": {},
   "outputs": [],
   "source": []
  },
  {
   "cell_type": "code",
   "execution_count": 33,
   "id": "462701c7",
   "metadata": {
    "ExecuteTime": {
     "end_time": "2021-07-03T11:01:47.170952Z",
     "start_time": "2021-07-03T11:01:46.812156Z"
    }
   },
   "outputs": [],
   "source": [
    "##Performing oversampling on the minority class to fix slight target imbalancing\n",
    "\n",
    "sampler = SMOTE(random_state=42 , sampling_strategy=.8)\n",
    "\n",
    "data = pd.concat([cat_data , num_data] , axis=1)\n",
    "\n",
    "X_res , y_res = sampler.fit_resample(data , target)"
   ]
  },
  {
   "cell_type": "code",
   "execution_count": 34,
   "id": "55f3159a",
   "metadata": {
    "ExecuteTime": {
     "end_time": "2021-07-03T11:01:47.450793Z",
     "start_time": "2021-07-03T11:01:47.172951Z"
    }
   },
   "outputs": [
    {
     "data": {
      "text/plain": [
       "<AxesSubplot:xlabel='Loan_Status', ylabel='count'>"
      ]
     },
     "execution_count": 34,
     "metadata": {},
     "output_type": "execute_result"
    },
    {
     "data": {
      "image/png": "[encoded data removed]",
      "text/plain": [
       "<Figure size 432x288 with 1 Axes>"
      ]
     },
     "metadata": {
      "needs_background": "light"
     },
     "output_type": "display_data"
    }
   ],
   "source": [
    "sns.countplot(y_res)"
   ]
  },
  {
   "cell_type": "code",
   "execution_count": 35,
   "id": "a290da59",
   "metadata": {
    "ExecuteTime": {
     "end_time": "2021-07-03T11:01:47.461785Z",
     "start_time": "2021-07-03T11:01:47.453790Z"
    }
   },
   "outputs": [],
   "source": [
    "ensemble_models = {\n",
    "    'DecisionTreeClassifier': DecisionTreeClassifier(),\n",
    "    'RandomForestClassifier': RandomForestClassifier(),\n",
    "    'GradientBoostingClassifier': GradientBoostingClassifier()\n",
    "}\n",
    "\n",
    "\n",
    "\n",
    "class_models = {\n",
    "    'LogisticRegression': LogisticRegression(random_state=42),\n",
    "    'KNeighborsClassifier': KNeighborsClassifier(),\n",
    "    'SVC': SVC(random_state=42),\n",
    "    'XGBoost': XGBClassifier()\n",
    "}"
   ]
  },
  {
   "cell_type": "code",
   "execution_count": 36,
   "id": "8e81ed0f",
   "metadata": {
    "ExecuteTime": {
     "end_time": "2021-07-03T11:01:47.718638Z",
     "start_time": "2021-07-03T11:01:47.465782Z"
    }
   },
   "outputs": [],
   "source": [
    "\n",
    "def model_evals(y_true, y_pred, retu=False):\n",
    "    pre = precision_score(y_true, y_pred)\n",
    "    rec = recall_score(y_true, y_pred)\n",
    "    f1 = f1_score(y_true, y_pred)\n",
    "    loss = log_loss(y_true, y_pred)\n",
    "    acc = accuracy_score(y_true, y_pred)\n",
    "    \n",
    "    if retu:\n",
    "        return pre, rec, f1, loss, acc\n",
    "    else:\n",
    "        print('  pre: %.3f\\n  rec: %.3f\\n  f1: %.3f\\n  loss: %.3f\\n  acc: %.3f' % (pre, rec, f1, loss, acc))\n",
    "\n",
    "\n",
    "def train_eval_score(models , X_train , y_train , X_test=None , y_test=None, eval_on_test=False):\n",
    "    for name , model in models.items():\n",
    "        print('Model Name:'+ name)\n",
    "        model.fit(X_train , y_train)\n",
    "        if eval_on_test:\n",
    "            model_evals(y_test , model.predict(X_test))\n",
    "        else:\n",
    "            model_evals(y_train , model.predict(X_train))\n",
    "        print('-'*50)"
   ]
  },
  {
   "cell_type": "code",
   "execution_count": 37,
   "id": "9739e59f",
   "metadata": {
    "ExecuteTime": {
     "end_time": "2021-07-03T11:01:47.997263Z",
     "start_time": "2021-07-03T11:01:47.721636Z"
    }
   },
   "outputs": [],
   "source": [
    "y_res = y_res.map({'Y':1 , 'N':0})"
   ]
  },
  {
   "cell_type": "code",
   "execution_count": 38,
   "id": "7d34dfa1",
   "metadata": {
    "ExecuteTime": {
     "end_time": "2021-07-03T11:01:49.108185Z",
     "start_time": "2021-07-03T11:01:48.000206Z"
    }
   },
   "outputs": [
    {
     "name": "stdout",
     "output_type": "stream",
     "text": [
      "Model Name:DecisionTreeClassifier\n",
      "  pre: 1.000\n",
      "  rec: 1.000\n",
      "  f1: 1.000\n",
      "  loss: 0.000\n",
      "  acc: 1.000\n",
      "--------------------------------------------------\n",
      "Model Name:RandomForestClassifier\n",
      "  pre: 1.000\n",
      "  rec: 1.000\n",
      "  f1: 1.000\n",
      "  loss: 0.000\n",
      "  acc: 1.000\n",
      "--------------------------------------------------\n",
      "Model Name:GradientBoostingClassifier\n",
      "  pre: 0.841\n",
      "  rec: 0.981\n",
      "  f1: 0.906\n",
      "  loss: 3.914\n",
      "  acc: 0.887\n",
      "--------------------------------------------------\n"
     ]
    }
   ],
   "source": [
    "train_eval_score(ensemble_models , X_res , y_res)"
   ]
  },
  {
   "cell_type": "markdown",
   "id": "b4b36238",
   "metadata": {},
   "source": [
    "##The ensemble methods are very good at generalizing and it appears that the decision tree classifier and the randomforest classifiers have been overfitting the dataset"
   ]
  },
  {
   "cell_type": "code",
   "execution_count": 39,
   "id": "bfd8a17d",
   "metadata": {
    "ExecuteTime": {
     "end_time": "2021-07-03T11:01:50.611531Z",
     "start_time": "2021-07-03T11:01:49.111184Z"
    }
   },
   "outputs": [
    {
     "name": "stdout",
     "output_type": "stream",
     "text": [
      "Model Name:LogisticRegression\n",
      "  pre: 0.750\n",
      "  rec: 0.941\n",
      "  f1: 0.835\n",
      "  loss: 7.145\n",
      "  acc: 0.793\n",
      "--------------------------------------------------\n",
      "Model Name:KNeighborsClassifier\n",
      "  pre: 0.791\n",
      "  rec: 0.791\n",
      "  f1: 0.791\n",
      "  loss: 8.009\n",
      "  acc: 0.768\n",
      "--------------------------------------------------\n",
      "Model Name:SVC\n",
      "  pre: 0.560\n",
      "  rec: 0.986\n",
      "  f1: 0.714\n",
      "  loss: 15.154\n",
      "  acc: 0.561\n",
      "--------------------------------------------------\n",
      "Model Name:XGBoost\n",
      "[12:01:50] WARNING: ..\\src\\learner.cc:1061: Starting in XGBoost 1.3.0, the default evaluation metric used with the objective 'binary:logistic' was changed from 'error' to 'logloss'. Explicitly set eval_metric if you'd like to restore the old behavior.\n",
      "  pre: 1.000\n",
      "  rec: 1.000\n",
      "  f1: 1.000\n",
      "  loss: 0.000\n",
      "  acc: 1.000\n",
      "--------------------------------------------------\n"
     ]
    }
   ],
   "source": [
    "train_eval_score(class_models , X_res , y_res)"
   ]
  },
  {
   "cell_type": "markdown",
   "id": "e3090c17",
   "metadata": {},
   "source": [
    "The logistic regression model seemes to do fairly well on the dataset than the Nearest Neighbors classifier and SVC model."
   ]
  },
  {
   "cell_type": "markdown",
   "id": "2b5ecd60",
   "metadata": {},
   "source": [
    "Going further in to do some more feature engineering on the dataset "
   ]
  },
  {
   "cell_type": "code",
   "execution_count": 40,
   "id": "cc8664d6",
   "metadata": {
    "ExecuteTime": {
     "end_time": "2021-07-03T11:01:52.169642Z",
     "start_time": "2021-07-03T11:01:50.614529Z"
    }
   },
   "outputs": [
    {
     "data": {
      "image/png": "[encoded data removed]",
      "text/plain": [
       "<Figure size 432x288 with 2 Axes>"
      ]
     },
     "metadata": {
      "needs_background": "light"
     },
     "output_type": "display_data"
    }
   ],
   "source": [
    "sns.heatmap(cat_data.corr() , annot=True);"
   ]
  },
  {
   "cell_type": "code",
   "execution_count": 41,
   "id": "55550e78",
   "metadata": {
    "ExecuteTime": {
     "end_time": "2021-07-03T11:01:52.603396Z",
     "start_time": "2021-07-03T11:01:52.171641Z"
    }
   },
   "outputs": [
    {
     "data": {
      "image/png": "[encoded data removed]",
      "text/plain": [
       "<Figure size 432x288 with 2 Axes>"
      ]
     },
     "metadata": {
      "needs_background": "light"
     },
     "output_type": "display_data"
    }
   ],
   "source": [
    "sns.heatmap(num_data.corr() , annot=True);"
   ]
  },
  {
   "cell_type": "code",
   "execution_count": 42,
   "id": "c7772b65",
   "metadata": {
    "ExecuteTime": {
     "end_time": "2021-07-03T11:01:52.630714Z",
     "start_time": "2021-07-03T11:01:52.605392Z"
    }
   },
   "outputs": [],
   "source": [
    "num_data = X_res.loc[: , num_cols]\n",
    "cat_data = X_res.loc[: , cat_cols[:-1]]"
   ]
  },
  {
   "cell_type": "code",
   "execution_count": 43,
   "id": "b0c29908",
   "metadata": {
    "ExecuteTime": {
     "end_time": "2021-07-03T11:01:52.817919Z",
     "start_time": "2021-07-03T11:01:52.632712Z"
    }
   },
   "outputs": [],
   "source": [
    "#Lets create some more features, connecting the highly correlated features \n",
    "\n",
    "num_data['Loan_Amount/Term'] = num_data['LoanAmount'] * num_data['Loan_Amount_Term']\n",
    "num_data['Applicant/Co_Income'] = num_data['CoapplicantIncome'] / num_data['ApplicantIncome']\n"
   ]
  },
  {
   "cell_type": "code",
   "execution_count": 44,
   "id": "ec58fb05",
   "metadata": {
    "ExecuteTime": {
     "end_time": "2021-07-03T11:01:56.437717Z",
     "start_time": "2021-07-03T11:01:52.820862Z"
    }
   },
   "outputs": [
    {
     "data": {
      "image/png": "[encoded data removed]",
      "text/plain": [
       "<Figure size 1080x576 with 2 Axes>"
      ]
     },
     "metadata": {
      "needs_background": "light"
     },
     "output_type": "display_data"
    }
   ],
   "source": [
    "plt.figure(figsize=(15,8))\n",
    "data = pd.concat([cat_data , num_data] , axis=1)\n",
    "sns.heatmap(data.corr() , annot=True);"
   ]
  },
  {
   "cell_type": "code",
   "execution_count": 45,
   "id": "913fc9df",
   "metadata": {
    "ExecuteTime": {
     "end_time": "2021-07-03T11:01:57.307221Z",
     "start_time": "2021-07-03T11:01:56.483689Z"
    }
   },
   "outputs": [
    {
     "name": "stdout",
     "output_type": "stream",
     "text": [
      "Model Name:DecisionTreeClassifier\n",
      "  pre: 1.000\n",
      "  rec: 1.000\n",
      "  f1: 1.000\n",
      "  loss: 0.000\n",
      "  acc: 1.000\n",
      "--------------------------------------------------\n",
      "Model Name:RandomForestClassifier\n",
      "  pre: 1.000\n",
      "  rec: 1.000\n",
      "  f1: 1.000\n",
      "  loss: 0.000\n",
      "  acc: 1.000\n",
      "--------------------------------------------------\n",
      "Model Name:GradientBoostingClassifier\n",
      "  pre: 0.855\n",
      "  rec: 0.976\n",
      "  f1: 0.912\n",
      "  loss: 3.641\n",
      "  acc: 0.895\n",
      "--------------------------------------------------\n"
     ]
    }
   ],
   "source": [
    "train_eval_score(ensemble_models , data , y_res)"
   ]
  },
  {
   "cell_type": "code",
   "execution_count": 46,
   "id": "f2db0597",
   "metadata": {
    "ExecuteTime": {
     "end_time": "2021-07-03T11:01:58.095540Z",
     "start_time": "2021-07-03T11:01:57.309217Z"
    }
   },
   "outputs": [
    {
     "name": "stdout",
     "output_type": "stream",
     "text": [
      "Model Name:LogisticRegression\n",
      "  pre: 0.732\n",
      "  rec: 0.810\n",
      "  f1: 0.769\n",
      "  loss: 9.329\n",
      "  acc: 0.730\n",
      "--------------------------------------------------\n",
      "Model Name:KNeighborsClassifier\n",
      "  pre: 0.723\n",
      "  rec: 0.784\n",
      "  f1: 0.752\n",
      "  loss: 9.920\n",
      "  acc: 0.713\n",
      "--------------------------------------------------\n",
      "Model Name:SVC\n",
      "  pre: 0.559\n",
      "  rec: 0.993\n",
      "  f1: 0.715\n",
      "  loss: 15.199\n",
      "  acc: 0.560\n",
      "--------------------------------------------------\n",
      "Model Name:XGBoost\n",
      "[12:01:57] WARNING: ..\\src\\learner.cc:1061: Starting in XGBoost 1.3.0, the default evaluation metric used with the objective 'binary:logistic' was changed from 'error' to 'logloss'. Explicitly set eval_metric if you'd like to restore the old behavior.\n",
      "  pre: 1.000\n",
      "  rec: 1.000\n",
      "  f1: 1.000\n",
      "  loss: 0.000\n",
      "  acc: 1.000\n",
      "--------------------------------------------------\n"
     ]
    }
   ],
   "source": [
    "train_eval_score(class_models , data , y_res)"
   ]
  },
  {
   "cell_type": "code",
   "execution_count": 47,
   "id": "d872356d",
   "metadata": {
    "ExecuteTime": {
     "end_time": "2021-07-03T11:02:02.517012Z",
     "start_time": "2021-07-03T11:01:58.099536Z"
    }
   },
   "outputs": [
    {
     "data": {
      "image/png": "[encoded data removed]",
      "text/plain": [
       "<Figure size 2160x1080 with 6 Axes>"
      ]
     },
     "metadata": {
      "needs_background": "light"
     },
     "output_type": "display_data"
    }
   ],
   "source": [
    "num_data.hist(figsize=(30,15) ,bins=50);"
   ]
  },
  {
   "cell_type": "code",
   "execution_count": 48,
   "id": "8753f7e0",
   "metadata": {
    "ExecuteTime": {
     "end_time": "2021-07-03T11:02:02.528006Z",
     "start_time": "2021-07-03T11:02:02.519010Z"
    }
   },
   "outputs": [],
   "source": [
    "## Applying log transformation on the numerical columns to handle skewness of distributions\n",
    "for col in num_data.columns:\n",
    "    num_data[col] = np.log(num_data[col] + 1)"
   ]
  },
  {
   "cell_type": "code",
   "execution_count": 49,
   "id": "2d77aeb6",
   "metadata": {
    "ExecuteTime": {
     "end_time": "2021-07-03T11:02:06.133947Z",
     "start_time": "2021-07-03T11:02:02.530006Z"
    }
   },
   "outputs": [
    {
     "data": {
      "image/png": "[encoded data removed]",
      "text/plain": [
       "<Figure size 2160x1080 with 6 Axes>"
      ]
     },
     "metadata": {
      "needs_background": "light"
     },
     "output_type": "display_data"
    }
   ],
   "source": [
    "num_data.hist(figsize=(30,15) ,bins=50);"
   ]
  },
  {
   "cell_type": "code",
   "execution_count": 50,
   "id": "443c744b",
   "metadata": {
    "ExecuteTime": {
     "end_time": "2021-07-03T11:02:06.213900Z",
     "start_time": "2021-07-03T11:02:06.136945Z"
    }
   },
   "outputs": [],
   "source": [
    "## Splitting into training and test sets\n",
    "\n",
    "sss = StratifiedShuffleSplit(n_splits=10 , test_size=.2 , random_state=10)\n",
    "data = pd.concat([cat_data , num_data] , axis=1)\n",
    "\n",
    "for train , test in sss.split(data , y_res):\n",
    "    X_train , X_test = data.iloc[train] , data.iloc[test]\n",
    "    y_train , y_test = y_res.iloc[train], y_res.iloc[test]"
   ]
  },
  {
   "cell_type": "code",
   "execution_count": 51,
   "id": "3d79ac08",
   "metadata": {
    "ExecuteTime": {
     "end_time": "2021-07-03T11:02:06.336831Z",
     "start_time": "2021-07-03T11:02:06.215899Z"
    }
   },
   "outputs": [
    {
     "data": {
      "text/plain": [
       "(607, 152, 607, 152)"
      ]
     },
     "execution_count": 51,
     "metadata": {},
     "output_type": "execute_result"
    }
   ],
   "source": [
    "len(X_train) , len(X_test) , len(y_train) , len(y_test)"
   ]
  },
  {
   "cell_type": "code",
   "execution_count": 52,
   "id": "a874f001",
   "metadata": {
    "ExecuteTime": {
     "end_time": "2021-07-03T11:02:06.932489Z",
     "start_time": "2021-07-03T11:02:06.339830Z"
    }
   },
   "outputs": [
    {
     "name": "stdout",
     "output_type": "stream",
     "text": [
      "Model Name:DecisionTreeClassifier\n",
      "  pre: 0.758\n",
      "  rec: 0.812\n",
      "  f1: 0.784\n",
      "  loss: 8.635\n",
      "  acc: 0.750\n",
      "--------------------------------------------------\n",
      "Model Name:RandomForestClassifier\n",
      "  pre: 0.800\n",
      "  rec: 0.941\n",
      "  f1: 0.865\n",
      "  loss: 5.681\n",
      "  acc: 0.836\n",
      "--------------------------------------------------\n",
      "Model Name:GradientBoostingClassifier\n",
      "  pre: 0.769\n",
      "  rec: 0.941\n",
      "  f1: 0.847\n",
      "  loss: 6.590\n",
      "  acc: 0.809\n",
      "--------------------------------------------------\n"
     ]
    }
   ],
   "source": [
    "train_eval_score(ensemble_models , X_train , y_train , X_test , y_test, eval_on_test=True)"
   ]
  },
  {
   "cell_type": "code",
   "execution_count": 53,
   "id": "4b805a15",
   "metadata": {
    "ExecuteTime": {
     "end_time": "2021-07-03T11:02:07.253307Z",
     "start_time": "2021-07-03T11:02:06.935489Z"
    }
   },
   "outputs": [
    {
     "name": "stdout",
     "output_type": "stream",
     "text": [
      "Model Name:LogisticRegression\n",
      "  pre: 0.761\n",
      "  rec: 0.976\n",
      "  f1: 0.856\n",
      "  loss: 6.363\n",
      "  acc: 0.816\n",
      "--------------------------------------------------\n",
      "Model Name:KNeighborsClassifier\n",
      "  pre: 0.780\n",
      "  rec: 0.918\n",
      "  f1: 0.843\n",
      "  loss: 6.590\n",
      "  acc: 0.809\n",
      "--------------------------------------------------\n",
      "Model Name:SVC\n",
      "  pre: 0.746\n",
      "  rec: 1.000\n",
      "  f1: 0.854\n",
      "  loss: 6.590\n",
      "  acc: 0.809\n",
      "--------------------------------------------------\n",
      "Model Name:XGBoost\n",
      "[12:02:07] WARNING: ..\\src\\learner.cc:1061: Starting in XGBoost 1.3.0, the default evaluation metric used with the objective 'binary:logistic' was changed from 'error' to 'logloss'. Explicitly set eval_metric if you'd like to restore the old behavior.\n",
      "  pre: 0.800\n",
      "  rec: 0.894\n",
      "  f1: 0.844\n",
      "  loss: 6.363\n",
      "  acc: 0.816\n",
      "--------------------------------------------------\n"
     ]
    }
   ],
   "source": [
    "train_eval_score(class_models , X_train , y_train, X_test , y_test, eval_on_test=True)"
   ]
  },
  {
   "cell_type": "markdown",
   "id": "35f5215c",
   "metadata": {},
   "source": [
    "From the above results, after running several iterations of values for the random state which is not a good practice , the RandomForestClassifier seems to perform better "
   ]
  },
  {
   "cell_type": "markdown",
   "id": "5081dc79-3459-45bf-94a1-cbf31930cc0d",
   "metadata": {},
   "source": [
    "## Tunning the RandomForestClassifier Model"
   ]
  },
  {
   "cell_type": "code",
   "execution_count": 54,
   "id": "7abb5e9d",
   "metadata": {
    "ExecuteTime": {
     "end_time": "2021-07-03T11:02:07.265301Z",
     "start_time": "2021-07-03T11:02:07.256305Z"
    }
   },
   "outputs": [],
   "source": [
    "## Hyperparameter tunning using GridSearchCV\n",
    "\n",
    "params = {\n",
    "    'n_estimators' :  [10,12,13,14],\n",
    "    'max_depth' : np.arange(20 , 70 , 10),\n",
    "    'min_samples_split' : [8,9,10,11,12],\n",
    "    'min_samples_leaf': [2,3,4,5],\n",
    "}\n",
    "\n",
    "gs_rf_model = GridSearchCV(RandomForestClassifier(random_state=42) , param_grid = params , scoring='accuracy' , cv=5 , n_jobs=-1 )"
   ]
  },
  {
   "cell_type": "code",
   "execution_count": 55,
   "id": "9b45e4b6",
   "metadata": {
    "ExecuteTime": {
     "end_time": "2021-07-03T11:03:37.495764Z",
     "start_time": "2021-07-03T11:02:07.268298Z"
    }
   },
   "outputs": [
    {
     "data": {
      "text/plain": [
       "GridSearchCV(cv=5, estimator=RandomForestClassifier(random_state=42), n_jobs=-1,\n",
       "             param_grid={'max_depth': array([20, 30, 40, 50, 60]),\n",
       "                         'min_samples_leaf': [2, 3, 4, 5],\n",
       "                         'min_samples_split': [8, 9, 10, 11, 12],\n",
       "                         'n_estimators': [10, 12, 13, 14]},\n",
       "             scoring='accuracy')"
      ]
     },
     "execution_count": 55,
     "metadata": {},
     "output_type": "execute_result"
    }
   ],
   "source": [
    "gs_rf_model.fit(X_train , y_train)"
   ]
  },
  {
   "cell_type": "code",
   "execution_count": 56,
   "id": "c5a32ebd",
   "metadata": {
    "ExecuteTime": {
     "end_time": "2021-07-03T11:03:37.516752Z",
     "start_time": "2021-07-03T11:03:37.498763Z"
    }
   },
   "outputs": [
    {
     "data": {
      "text/plain": [
       "0.8289473684210527"
      ]
     },
     "execution_count": 56,
     "metadata": {},
     "output_type": "execute_result"
    }
   ],
   "source": [
    "gs_rf_model.score(X_test , y_test)"
   ]
  },
  {
   "cell_type": "code",
   "execution_count": 57,
   "id": "ca71ce25",
   "metadata": {
    "ExecuteTime": {
     "end_time": "2021-07-03T11:03:37.680659Z",
     "start_time": "2021-07-03T11:03:37.519751Z"
    }
   },
   "outputs": [
    {
     "data": {
      "text/plain": [
       "{'max_depth': 20,\n",
       " 'min_samples_leaf': 4,\n",
       " 'min_samples_split': 9,\n",
       " 'n_estimators': 13}"
      ]
     },
     "execution_count": 57,
     "metadata": {},
     "output_type": "execute_result"
    }
   ],
   "source": [
    "gs_rf_model.best_params_"
   ]
  },
  {
   "cell_type": "markdown",
   "id": "ec4e3a53-2507-4592-8695-9ec4f54ccf6e",
   "metadata": {},
   "source": [
    "## Tunning the Logistic Regression model"
   ]
  },
  {
   "cell_type": "code",
   "execution_count": 58,
   "id": "a4c80e5c",
   "metadata": {
    "ExecuteTime": {
     "end_time": "2021-07-03T11:03:37.940519Z",
     "start_time": "2021-07-03T11:03:37.685656Z"
    }
   },
   "outputs": [],
   "source": [
    "param_grid_lr=[\n",
    "    {\n",
    "        'C': [0.001,0.01,0.1,1,10,100,1000],\n",
    "        'max_iter':np.arange(1,20,2),\n",
    "        'penalty':['l1','l2'],\n",
    "        'solver':['liblinear' , 'lbfgs']\n",
    "    },\n",
    "    {\n",
    "        'C': [0.001,0.01,0.1,1,10,100,1000],\n",
    "        'max_iter':np.arange(10,100,10),\n",
    "        'penalty':['elasticnet'],\n",
    "        'solver':['saga'],\n",
    "        'l1_ratio': [1]\n",
    "    }\n",
    "]\n",
    "gs_lr_model = GridSearchCV(LogisticRegression() , param_grid = param_grid_lr , scoring='accuracy' , cv=5 )"
   ]
  },
  {
   "cell_type": "code",
   "execution_count": 59,
   "id": "4cbbcaaa",
   "metadata": {
    "ExecuteTime": {
     "end_time": "2021-07-03T11:04:14.198801Z",
     "start_time": "2021-07-03T11:03:37.947507Z"
    }
   },
   "outputs": [
    {
     "data": {
      "text/plain": [
       "GridSearchCV(cv=5, estimator=LogisticRegression(),\n",
       "             param_grid=[{'C': [0.001, 0.01, 0.1, 1, 10, 100, 1000],\n",
       "                          'max_iter': array([ 1,  3,  5,  7,  9, 11, 13, 15, 17, 19]),\n",
       "                          'penalty': ['l1', 'l2'],\n",
       "                          'solver': ['liblinear', 'lbfgs']},\n",
       "                         {'C': [0.001, 0.01, 0.1, 1, 10, 100, 1000],\n",
       "                          'l1_ratio': [1],\n",
       "                          'max_iter': array([10, 20, 30, 40, 50, 60, 70, 80, 90]),\n",
       "                          'penalty': ['elasticnet'], 'solver': ['saga']}],\n",
       "             scoring='accuracy')"
      ]
     },
     "execution_count": 59,
     "metadata": {},
     "output_type": "execute_result"
    }
   ],
   "source": [
    "gs_lr_model.fit(X_train , y_train)"
   ]
  },
  {
   "cell_type": "code",
   "execution_count": 60,
   "id": "8e0354b6",
   "metadata": {
    "ExecuteTime": {
     "end_time": "2021-07-03T11:04:14.219796Z",
     "start_time": "2021-07-03T11:04:14.204797Z"
    }
   },
   "outputs": [
    {
     "data": {
      "text/plain": [
       "0.8092105263157895"
      ]
     },
     "execution_count": 60,
     "metadata": {},
     "output_type": "execute_result"
    }
   ],
   "source": [
    "gs_lr_model.score(X_test , y_test)"
   ]
  },
  {
   "cell_type": "code",
   "execution_count": 61,
   "id": "c0cdcbc9",
   "metadata": {
    "ExecuteTime": {
     "end_time": "2021-07-03T11:04:14.397688Z",
     "start_time": "2021-07-03T11:04:14.225787Z"
    }
   },
   "outputs": [
    {
     "data": {
      "text/plain": [
       "{'C': 1000, 'max_iter': 3, 'penalty': 'l1', 'solver': 'liblinear'}"
      ]
     },
     "execution_count": 61,
     "metadata": {},
     "output_type": "execute_result"
    }
   ],
   "source": [
    "gs_lr_model.best_params_"
   ]
  },
  {
   "cell_type": "markdown",
   "id": "70d5fe47-59eb-47b8-a1a4-a1efb52bc8fc",
   "metadata": {},
   "source": [
    "## Tunning the XGBOOST model"
   ]
  },
  {
   "cell_type": "code",
   "execution_count": 62,
   "id": "f09cda87",
   "metadata": {
    "ExecuteTime": {
     "end_time": "2021-07-03T11:04:14.741490Z",
     "start_time": "2021-07-03T11:04:14.405683Z"
    }
   },
   "outputs": [],
   "source": [
    "params={\n",
    "    \"learning_rate\"    : [0.10, 0.15, 0.20, 0.25, 0.30 ] ,\n",
    "    'n_estimators':np.arange(10 , 100 , 10),\n",
    "    'max_depth': [50,100,150],\n",
    "    'gamma': np.arange(10,50,10),\n",
    "    'min_child_weight':[10,20,25],\n",
    "}\n",
    "\n",
    "xgb_model = XGBClassifier()\n",
    "\n",
    "gs_xgb_model = GridSearchCV(xgb_model , param_grid=params , cv=5 , verbose=True , n_jobs=-1)"
   ]
  },
  {
   "cell_type": "code",
   "execution_count": 63,
   "id": "7f8b869f",
   "metadata": {
    "ExecuteTime": {
     "end_time": "2021-07-03T11:12:49.464918Z",
     "start_time": "2021-07-03T11:04:14.744489Z"
    }
   },
   "outputs": [
    {
     "name": "stdout",
     "output_type": "stream",
     "text": [
      "Fitting 5 folds for each of 1620 candidates, totalling 8100 fits\n",
      "[12:12:49] WARNING: ..\\src\\learner.cc:1061: Starting in XGBoost 1.3.0, the default evaluation metric used with the objective 'binary:logistic' was changed from 'error' to 'logloss'. Explicitly set eval_metric if you'd like to restore the old behavior.\n"
     ]
    },
    {
     "data": {
      "text/plain": [
       "GridSearchCV(cv=5,\n",
       "             estimator=XGBClassifier(base_score=None, booster=None,\n",
       "                                     colsample_bylevel=None,\n",
       "                                     colsample_bynode=None,\n",
       "                                     colsample_bytree=None, gamma=None,\n",
       "                                     gpu_id=None, importance_type='gain',\n",
       "                                     interaction_constraints=None,\n",
       "                                     learning_rate=None, max_delta_step=None,\n",
       "                                     max_depth=None, min_child_weight=None,\n",
       "                                     missing=nan, monotone_constraints=None,\n",
       "                                     n_estimators=100, n_jobs...\n",
       "                                     num_parallel_tree=None, random_state=None,\n",
       "                                     reg_alpha=None, reg_lambda=None,\n",
       "                                     scale_pos_weight=None, subsample=None,\n",
       "                                     tree_method=None, validate_parameters=None,\n",
       "                                     verbosity=None),\n",
       "             n_jobs=-1,\n",
       "             param_grid={'gamma': array([10, 20, 30, 40]),\n",
       "                         'learning_rate': [0.1, 0.15, 0.2, 0.25, 0.3],\n",
       "                         'max_depth': [50, 100, 150],\n",
       "                         'min_child_weight': [10, 20, 25],\n",
       "                         'n_estimators': array([10, 20, 30, 40, 50, 60, 70, 80, 90])},\n",
       "             verbose=True)"
      ]
     },
     "execution_count": 63,
     "metadata": {},
     "output_type": "execute_result"
    }
   ],
   "source": [
    "gs_xgb_model.fit(X_train , y_train)"
   ]
  },
  {
   "cell_type": "code",
   "execution_count": 64,
   "id": "e9e63d69",
   "metadata": {
    "ExecuteTime": {
     "end_time": "2021-07-03T11:12:49.485907Z",
     "start_time": "2021-07-03T11:12:49.468917Z"
    }
   },
   "outputs": [
    {
     "name": "stdout",
     "output_type": "stream",
     "text": [
      "Accuracy of the xgboost classifier on the training set is 0.7759472817133443\n",
      "Accuracy of the xgboost classifier on the test set is 0.81\n"
     ]
    }
   ],
   "source": [
    "print(f\"Accuracy of the xgboost classifier on the training set is {gs_xgb_model.score(X_train ,y_train)}\")\n",
    "print(f\"Accuracy of the xgboost classifier on the test set is {gs_xgb_model.score(X_test ,y_test):.2f}\")"
   ]
  },
  {
   "cell_type": "markdown",
   "id": "4581389d-cfb4-42b2-b93d-f1723b5ea81f",
   "metadata": {},
   "source": [
    "## Tunning the KNeighbors Classifier"
   ]
  },
  {
   "cell_type": "code",
   "execution_count": 65,
   "id": "389cd184-ea35-4549-9032-a584ea1e30e8",
   "metadata": {
    "ExecuteTime": {
     "end_time": "2021-07-03T11:12:49.797730Z",
     "start_time": "2021-07-03T11:12:49.489905Z"
    }
   },
   "outputs": [],
   "source": [
    "params = {\n",
    "    'n_neighbors': np.arange(30 , 40 , 1),\n",
    "    'p':np.arange(1 , 5 , 1),\n",
    "}\n",
    "\n",
    "knn_model = KNeighborsClassifier()\n",
    "\n",
    "gs_knn_model = GridSearchCV(knn_model , param_grid=params , cv=5 , verbose=True , n_jobs=-1)"
   ]
  },
  {
   "cell_type": "code",
   "execution_count": 66,
   "id": "1ae580ef-4625-42bf-acd9-142e07fc88f5",
   "metadata": {
    "ExecuteTime": {
     "end_time": "2021-07-03T11:12:53.365691Z",
     "start_time": "2021-07-03T11:12:49.802742Z"
    }
   },
   "outputs": [
    {
     "name": "stdout",
     "output_type": "stream",
     "text": [
      "Fitting 5 folds for each of 40 candidates, totalling 200 fits\n"
     ]
    },
    {
     "data": {
      "text/plain": [
       "GridSearchCV(cv=5, estimator=KNeighborsClassifier(), n_jobs=-1,\n",
       "             param_grid={'n_neighbors': array([30, 31, 32, 33, 34, 35, 36, 37, 38, 39]),\n",
       "                         'p': array([1, 2, 3, 4])},\n",
       "             verbose=True)"
      ]
     },
     "execution_count": 66,
     "metadata": {},
     "output_type": "execute_result"
    }
   ],
   "source": [
    "gs_knn_model.fit(X_train , y_train)"
   ]
  },
  {
   "cell_type": "code",
   "execution_count": 67,
   "id": "58a200c1-a730-4243-851c-55acca2a9a65",
   "metadata": {
    "ExecuteTime": {
     "end_time": "2021-07-03T11:12:53.401670Z",
     "start_time": "2021-07-03T11:12:53.368690Z"
    }
   },
   "outputs": [
    {
     "data": {
      "text/plain": [
       "0.8026315789473685"
      ]
     },
     "execution_count": 67,
     "metadata": {},
     "output_type": "execute_result"
    }
   ],
   "source": [
    "gs_knn_model.score(X_test , y_test)"
   ]
  },
  {
   "cell_type": "code",
   "execution_count": 68,
   "id": "6656eeb1-6bbc-4611-81c3-4e9245b49a96",
   "metadata": {
    "ExecuteTime": {
     "end_time": "2021-07-03T11:12:53.661546Z",
     "start_time": "2021-07-03T11:12:53.580570Z"
    }
   },
   "outputs": [
    {
     "data": {
      "text/plain": [
       "{'n_neighbors': 30, 'p': 1}"
      ]
     },
     "execution_count": 68,
     "metadata": {},
     "output_type": "execute_result"
    }
   ],
   "source": [
    "gs_knn_model.best_params_"
   ]
  },
  {
   "cell_type": "code",
   "execution_count": null,
   "id": "391ea120-c3cc-405e-8d99-978073ba3c32",
   "metadata": {},
   "outputs": [],
   "source": []
  }
 ],
 "metadata": {
  "interpreter": {
   "hash": "ac59ebe37160ed0dfa835113d9b8498d9f09ceb179beaac4002f036b9467c963"
  },
  "kernelspec": {
   "display_name": "Python 3",
   "language": "python",
   "name": "python3"
  },
  "language_info": {
   "codemirror_mode": {
    "name": "ipython",
    "version": 3
   },
   "file_extension": ".py",
   "mimetype": "text/x-python",
   "name": "python",
   "nbconvert_exporter": "python",
   "pygments_lexer": "ipython3",
   "version": "3.9.5"
  }
 },
 "nbformat": 4,
 "nbformat_minor": 5
}
